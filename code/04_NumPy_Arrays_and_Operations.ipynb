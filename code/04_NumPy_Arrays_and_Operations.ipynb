{
 "cells": [
  {
   "cell_type": "markdown",
   "id": "135b236e",
   "metadata": {},
   "source": [
    "# Numpy Arrays"
   ]
  },
  {
   "cell_type": "code",
   "execution_count": 1,
   "id": "ffdb6e96",
   "metadata": {},
   "outputs": [
    {
     "name": "stdout",
     "output_type": "stream",
     "text": [
      "[1 2 3 4 5]\n",
      "<class 'numpy.ndarray'>\n"
     ]
    }
   ],
   "source": [
    "import numpy as np\n",
    "\n",
    "arr = np.array([1, 2, 3, 4, 5])\n",
    "\n",
    "print(arr)\n",
    "\n",
    "print(type(arr))"
   ]
  },
  {
   "cell_type": "markdown",
   "id": "7460d9bc",
   "metadata": {},
   "source": [
    "0 dimensional array"
   ]
  },
  {
   "cell_type": "code",
   "execution_count": 2,
   "id": "db0e7ddf",
   "metadata": {},
   "outputs": [
    {
     "name": "stdout",
     "output_type": "stream",
     "text": [
      "42\n"
     ]
    }
   ],
   "source": [
    "import numpy as np\n",
    "\n",
    "arr1 = np.array(42)\n",
    "\n",
    "print(arr1)"
   ]
  },
  {
   "cell_type": "markdown",
   "id": "4b345730",
   "metadata": {},
   "source": [
    "1-D arrays or unidimensional array"
   ]
  },
  {
   "cell_type": "code",
   "execution_count": 3,
   "id": "fa68cc75",
   "metadata": {},
   "outputs": [
    {
     "name": "stdout",
     "output_type": "stream",
     "text": [
      "[1 2 3 4 5]\n"
     ]
    }
   ],
   "source": [
    "import numpy as np\n",
    "\n",
    "arr2 = np.array([1, 2, 3, 4, 5])\n",
    "\n",
    "print(arr2)"
   ]
  },
  {
   "cell_type": "code",
   "execution_count": 4,
   "id": "83d20146",
   "metadata": {},
   "outputs": [
    {
     "name": "stdout",
     "output_type": "stream",
     "text": [
      "[[1 2 3]\n",
      " [4 5 6]]\n"
     ]
    }
   ],
   "source": [
    "import numpy as np\n",
    "\n",
    "arr3 = np.array([[1, 2, 3], [4, 5, 6]])\n",
    "\n",
    "print(arr3)"
   ]
  },
  {
   "cell_type": "code",
   "execution_count": 5,
   "id": "ae710946",
   "metadata": {},
   "outputs": [
    {
     "name": "stdout",
     "output_type": "stream",
     "text": [
      "[[[1 2 3]\n",
      "  [4 5 6]]\n",
      "\n",
      " [[1 2 3]\n",
      "  [4 5 6]]]\n"
     ]
    }
   ],
   "source": [
    "import numpy as np\n",
    "\n",
    "arr4 = np.array([[[1, 2, 3], [4, 5, 6]], [[1, 2, 3], [4, 5, 6]]])\n",
    "\n",
    "print(arr4)"
   ]
  },
  {
   "cell_type": "code",
   "execution_count": 6,
   "id": "ec8f07be",
   "metadata": {},
   "outputs": [
    {
     "name": "stdout",
     "output_type": "stream",
     "text": [
      "0\n",
      "1\n",
      "2\n",
      "3\n"
     ]
    }
   ],
   "source": [
    "print(arr1.ndim)\n",
    "print(arr2.ndim)\n",
    "print(arr3.ndim)\n",
    "print(arr4.ndim)"
   ]
  },
  {
   "cell_type": "markdown",
   "id": "a7948b8d",
   "metadata": {},
   "source": [
    "# Higher Dimension Arrays"
   ]
  },
  {
   "cell_type": "markdown",
   "id": "bc9d3423",
   "metadata": {},
   "source": [
    "An array can have any number of dimensions.\n",
    "\n",
    "When the array is created, you can define the number of dimensions by using the ndmin argument."
   ]
  },
  {
   "cell_type": "code",
   "execution_count": 7,
   "id": "7e810bd5",
   "metadata": {},
   "outputs": [
    {
     "name": "stdout",
     "output_type": "stream",
     "text": [
      "[[[[[1 2 3 4]]]]]\n",
      "number of dimensions : 5\n"
     ]
    }
   ],
   "source": [
    "import numpy as np\n",
    "\n",
    "arr = np.array([1, 2, 3, 4], ndmin=5)\n",
    "\n",
    "print(arr)\n",
    "print('number of dimensions :', arr.ndim)"
   ]
  },
  {
   "cell_type": "markdown",
   "id": "e6216c7d",
   "metadata": {},
   "source": [
    "# Array Indexing"
   ]
  },
  {
   "cell_type": "code",
   "execution_count": 8,
   "id": "52dfb0de",
   "metadata": {},
   "outputs": [
    {
     "name": "stdout",
     "output_type": "stream",
     "text": [
      "2\n"
     ]
    }
   ],
   "source": [
    "import numpy as np\n",
    "\n",
    "arr = np.array([1, 2, 3, 4])\n",
    "\n",
    "print(arr[1])\n"
   ]
  },
  {
   "cell_type": "code",
   "execution_count": 9,
   "id": "4912c2cf",
   "metadata": {},
   "outputs": [
    {
     "name": "stdout",
     "output_type": "stream",
     "text": [
      "7\n"
     ]
    }
   ],
   "source": [
    "import numpy as np\n",
    "\n",
    "arr = np.array([1, 2, 3, 4])\n",
    "\n",
    "print(arr[2] + arr[3])"
   ]
  },
  {
   "cell_type": "markdown",
   "id": "025e74b3",
   "metadata": {},
   "source": [
    "Accessing 2-D arrays"
   ]
  },
  {
   "cell_type": "code",
   "execution_count": 10,
   "id": "aaa79e01",
   "metadata": {},
   "outputs": [
    {
     "name": "stdout",
     "output_type": "stream",
     "text": [
      "2nd element on 1st row:  2\n"
     ]
    }
   ],
   "source": [
    "import numpy as np\n",
    "\n",
    "arr = np.array([[1,2,3,4,5], [6,7,8,9,10]])\n",
    "\n",
    "print('2nd element on 1st row: ', arr[0, 1])"
   ]
  },
  {
   "cell_type": "markdown",
   "id": "92c5e028",
   "metadata": {},
   "source": [
    "Negative Indexing"
   ]
  },
  {
   "cell_type": "code",
   "execution_count": 11,
   "id": "a4bc91c7",
   "metadata": {},
   "outputs": [
    {
     "name": "stdout",
     "output_type": "stream",
     "text": [
      "Last element from 2nd dim:  19\n"
     ]
    }
   ],
   "source": [
    "import numpy as np\n",
    "\n",
    "arr = np.array([[1,2,3,4,5], [6,7,8,9,10],[1,2,3,4,19]])\n",
    "\n",
    "print('Last element from 2nd dim: ', arr[2, -1])"
   ]
  },
  {
   "cell_type": "markdown",
   "id": "d27f5a24",
   "metadata": {},
   "source": [
    "# Slicing in array "
   ]
  },
  {
   "cell_type": "code",
   "execution_count": 5,
   "id": "d9fc2763",
   "metadata": {},
   "outputs": [
    {
     "name": "stdout",
     "output_type": "stream",
     "text": [
      "[5 6 7]\n"
     ]
    }
   ],
   "source": [
    "import numpy as np\n",
    "\n",
    "arr = np.array([1, 2, 3, 4, 5, 6, 7])\n",
    "\n",
    "print(arr[4:])"
   ]
  },
  {
   "cell_type": "code",
   "execution_count": 20,
   "id": "ed179bf9",
   "metadata": {},
   "outputs": [
    {
     "data": {
      "text/plain": [
       "array([7, 6, 5, 4, 3, 2, 1])"
      ]
     },
     "execution_count": 20,
     "metadata": {},
     "output_type": "execute_result"
    }
   ],
   "source": [
    "arr[-1:-8:-1]"
   ]
  },
  {
   "cell_type": "code",
   "execution_count": 14,
   "id": "3b075a5f",
   "metadata": {},
   "outputs": [
    {
     "data": {
      "text/plain": [
       "array([1, 2, 3, 4])"
      ]
     },
     "execution_count": 14,
     "metadata": {},
     "output_type": "execute_result"
    }
   ],
   "source": [
    "arr[:4]"
   ]
  },
  {
   "cell_type": "code",
   "execution_count": 15,
   "id": "c932541f",
   "metadata": {},
   "outputs": [
    {
     "data": {
      "text/plain": [
       "array([5, 6])"
      ]
     },
     "execution_count": 15,
     "metadata": {},
     "output_type": "execute_result"
    }
   ],
   "source": [
    "arr[-3:-1]"
   ]
  },
  {
   "cell_type": "code",
   "execution_count": 16,
   "id": "02cf8b0f",
   "metadata": {},
   "outputs": [
    {
     "data": {
      "text/plain": [
       "array([2, 4])"
      ]
     },
     "execution_count": 16,
     "metadata": {},
     "output_type": "execute_result"
    }
   ],
   "source": [
    "arr[1:5:2]"
   ]
  },
  {
   "cell_type": "markdown",
   "id": "117229bc",
   "metadata": {},
   "source": [
    "Slicing 2-D arrays"
   ]
  },
  {
   "cell_type": "code",
   "execution_count": 23,
   "id": "216be7f9",
   "metadata": {},
   "outputs": [
    {
     "name": "stdout",
     "output_type": "stream",
     "text": [
      "[[2 3 4]\n",
      " [7 8 9]]\n"
     ]
    }
   ],
   "source": [
    "arr = np.array([[1, 2, 3, 4, 5], [6, 7, 8, 9, 10]])\n",
    "\n",
    "print(arr[0:2, 1:4])"
   ]
  },
  {
   "cell_type": "code",
   "execution_count": 22,
   "id": "751f1e45",
   "metadata": {},
   "outputs": [
    {
     "data": {
      "text/plain": [
       "array([[ 1,  2,  3,  4,  5],\n",
       "       [ 6,  7,  8,  9, 10]])"
      ]
     },
     "execution_count": 22,
     "metadata": {},
     "output_type": "execute_result"
    }
   ],
   "source": [
    "arr"
   ]
  },
  {
   "cell_type": "code",
   "execution_count": 53,
   "id": "54a1b898",
   "metadata": {},
   "outputs": [],
   "source": [
    "arr = np.array([[[1, 2, 3, 4, 5], [6, 7, 8, 9, 10],[1,2,3,4,5]]])\n",
    "\n",
    "#print(arr[0:2, 2])"
   ]
  },
  {
   "cell_type": "code",
   "execution_count": 51,
   "id": "9cf5f236",
   "metadata": {},
   "outputs": [
    {
     "name": "stdout",
     "output_type": "stream",
     "text": [
      "[[2 3 4]\n",
      " [7 8 9]]\n"
     ]
    }
   ],
   "source": [
    "arr = np.array([[1, 2, 3, 4, 5], [6, 7, 8, 9, 10]])\n",
    "\n",
    "print(arr[0:2, 1:4])\n"
   ]
  },
  {
   "cell_type": "code",
   "execution_count": 54,
   "id": "c7139f6a",
   "metadata": {},
   "outputs": [
    {
     "name": "stdout",
     "output_type": "stream",
     "text": [
      "[[[ 1  2  3  4  5]\n",
      "  [ 6  7  8  9 10]\n",
      "  [ 1  2  3  4  5]]]\n"
     ]
    }
   ],
   "source": [
    "print(arr)"
   ]
  },
  {
   "cell_type": "markdown",
   "id": "65b11ba3",
   "metadata": {},
   "source": [
    "# Some Mathematical Operations on Arrays"
   ]
  },
  {
   "cell_type": "markdown",
   "id": "3689d6e7",
   "metadata": {},
   "source": [
    "Scalar Addition"
   ]
  },
  {
   "cell_type": "code",
   "execution_count": 20,
   "id": "67e0d025",
   "metadata": {},
   "outputs": [
    {
     "name": "stdout",
     "output_type": "stream",
     "text": [
      "[ 15.   25.   35.5 -35. ]\n"
     ]
    }
   ],
   "source": [
    "import numpy as np \n",
    "arr = np.array([10, 20, 30.5, -40])\n",
    "arr = arr+5\n",
    "print(arr)"
   ]
  },
  {
   "cell_type": "markdown",
   "id": "11b46886",
   "metadata": {},
   "source": [
    "Scalar Multiplication and Division"
   ]
  },
  {
   "cell_type": "code",
   "execution_count": 21,
   "id": "89c150c0",
   "metadata": {},
   "outputs": [
    {
     "data": {
      "text/plain": [
       "array([  45. ,   75. ,  106.5, -105. ])"
      ]
     },
     "execution_count": 21,
     "metadata": {},
     "output_type": "execute_result"
    }
   ],
   "source": [
    "arr4 = arr*3\n",
    "arr4"
   ]
  },
  {
   "cell_type": "code",
   "execution_count": 22,
   "id": "c59fed13",
   "metadata": {},
   "outputs": [
    {
     "data": {
      "text/plain": [
       "array([ 3. ,  5. ,  7.1, -7. ])"
      ]
     },
     "execution_count": 22,
     "metadata": {},
     "output_type": "execute_result"
    }
   ],
   "source": [
    "arr5 = arr/5\n",
    "arr5"
   ]
  },
  {
   "cell_type": "code",
   "execution_count": 23,
   "id": "e024797b",
   "metadata": {},
   "outputs": [
    {
     "data": {
      "text/plain": [
       "array([ 14. ,  23. ,  32.5, -39. ])"
      ]
     },
     "execution_count": 23,
     "metadata": {},
     "output_type": "execute_result"
    }
   ],
   "source": [
    "arr2 = np.array([1,2,3,4])\n",
    "arr3 = arr - arr2\n",
    "arr3"
   ]
  },
  {
   "cell_type": "markdown",
   "id": "4437e693",
   "metadata": {},
   "source": [
    "Array Multiplication (Element-wise Multiplication) "
   ]
  },
  {
   "cell_type": "code",
   "execution_count": 2,
   "id": "7ed5c2ae",
   "metadata": {},
   "outputs": [],
   "source": [
    "import numpy as np\n",
    "\n",
    "a = np.array([2, 1, 1])\n",
    "b = np.array([3, 1, 1])\n",
    "#a * b\n"
   ]
  },
  {
   "cell_type": "code",
   "execution_count": null,
   "id": "a0149659",
   "metadata": {},
   "outputs": [],
   "source": [
    "i(1-1)-j(2-3)+k(2-3)\n",
    "(0,1,-1)"
   ]
  },
  {
   "cell_type": "markdown",
   "id": "554629e5",
   "metadata": {},
   "source": [
    "Array Multiplication (Dot Product) "
   ]
  },
  {
   "cell_type": "markdown",
   "id": "f17db35c",
   "metadata": {},
   "source": [
    "Array Multiplication (Cross Product)"
   ]
  },
  {
   "cell_type": "code",
   "execution_count": 3,
   "id": "05e9b7de",
   "metadata": {},
   "outputs": [
    {
     "data": {
      "text/plain": [
       "array([ 0,  1, -1])"
      ]
     },
     "execution_count": 3,
     "metadata": {},
     "output_type": "execute_result"
    }
   ],
   "source": [
    "import numpy as np\n",
    "np.cross(a,b)"
   ]
  },
  {
   "cell_type": "markdown",
   "id": "a0634676",
   "metadata": {},
   "source": [
    "Exponenets and Logarithms"
   ]
  },
  {
   "cell_type": "code",
   "execution_count": 27,
   "id": "47e08c2c",
   "metadata": {},
   "outputs": [
    {
     "data": {
      "text/plain": [
       "array([ 2.71828183,  7.3890561 , 20.08553692])"
      ]
     },
     "execution_count": 27,
     "metadata": {},
     "output_type": "execute_result"
    }
   ],
   "source": [
    "np.exp(a)"
   ]
  },
  {
   "cell_type": "markdown",
   "id": "db202d12",
   "metadata": {},
   "source": [
    "Logarithm functions can be different based on base\n",
    "1. Natural Log\n",
    "2. Logarithm base 2\n",
    "3. Logarithm base 10"
   ]
  },
  {
   "cell_type": "code",
   "execution_count": 28,
   "id": "b6693796",
   "metadata": {},
   "outputs": [
    {
     "data": {
      "text/plain": [
       "1.0"
      ]
     },
     "execution_count": 28,
     "metadata": {},
     "output_type": "execute_result"
    }
   ],
   "source": [
    "#Natural Log\n",
    "np.log(np.e)"
   ]
  },
  {
   "cell_type": "code",
   "execution_count": 29,
   "id": "40369695",
   "metadata": {},
   "outputs": [
    {
     "data": {
      "text/plain": [
       "2.302585092994046"
      ]
     },
     "execution_count": 29,
     "metadata": {},
     "output_type": "execute_result"
    }
   ],
   "source": [
    "np.log(10)"
   ]
  },
  {
   "cell_type": "code",
   "execution_count": 30,
   "id": "722c3666",
   "metadata": {},
   "outputs": [
    {
     "data": {
      "text/plain": [
       "3.321928094887362"
      ]
     },
     "execution_count": 30,
     "metadata": {},
     "output_type": "execute_result"
    }
   ],
   "source": [
    "#Logarithm base 2\n",
    "np.log2(10)"
   ]
  },
  {
   "cell_type": "code",
   "execution_count": 31,
   "id": "0cebf7f2",
   "metadata": {},
   "outputs": [
    {
     "data": {
      "text/plain": [
       "1.0"
      ]
     },
     "execution_count": 31,
     "metadata": {},
     "output_type": "execute_result"
    }
   ],
   "source": [
    "#Logarithm base 10\n",
    "np.log10(10)"
   ]
  },
  {
   "cell_type": "markdown",
   "id": "5c693106",
   "metadata": {},
   "source": [
    "# Multidimensional Arrays"
   ]
  },
  {
   "cell_type": "code",
   "execution_count": 32,
   "id": "79790cfe",
   "metadata": {},
   "outputs": [
    {
     "data": {
      "text/plain": [
       "array([1, 2, 3, 4, 5, 6])"
      ]
     },
     "execution_count": 32,
     "metadata": {},
     "output_type": "execute_result"
    }
   ],
   "source": [
    "a = np.array([1, 2, 3, 4, 5, 6])\n",
    "a"
   ]
  },
  {
   "cell_type": "code",
   "execution_count": 33,
   "id": "03fb649f",
   "metadata": {},
   "outputs": [
    {
     "data": {
      "text/plain": [
       "array([[1, 2, 3],\n",
       "       [4, 5, 6]])"
      ]
     },
     "execution_count": 33,
     "metadata": {},
     "output_type": "execute_result"
    }
   ],
   "source": [
    "b = np.reshape(a,(2,3))\n",
    "b"
   ]
  },
  {
   "cell_type": "code",
   "execution_count": null,
   "id": "5f5ee2e4",
   "metadata": {},
   "outputs": [],
   "source": []
  },
  {
   "cell_type": "code",
   "execution_count": 34,
   "id": "dc63a0d1",
   "metadata": {},
   "outputs": [
    {
     "data": {
      "text/plain": [
       "array([0, 1, 2, 3])"
      ]
     },
     "execution_count": 34,
     "metadata": {},
     "output_type": "execute_result"
    }
   ],
   "source": [
    "a = np.arange(4)\n",
    "a"
   ]
  },
  {
   "cell_type": "markdown",
   "id": "1eef7aff",
   "metadata": {},
   "source": [
    "Same multiplication operations can be applied on multidimensional arrays "
   ]
  },
  {
   "cell_type": "markdown",
   "id": "1b492ae4",
   "metadata": {},
   "source": [
    "Slicing Multidimensional arrays"
   ]
  },
  {
   "cell_type": "code",
   "execution_count": 35,
   "id": "96bf4572",
   "metadata": {},
   "outputs": [],
   "source": [
    "a= np.reshape(np.arange(30), (5,6)) #taking 5,6 because their product will result 30"
   ]
  },
  {
   "cell_type": "code",
   "execution_count": 36,
   "id": "07355354",
   "metadata": {},
   "outputs": [
    {
     "data": {
      "text/plain": [
       "array([[ 0,  1,  2,  3,  4,  5],\n",
       "       [ 6,  7,  8,  9, 10, 11],\n",
       "       [12, 13, 14, 15, 16, 17],\n",
       "       [18, 19, 20, 21, 22, 23],\n",
       "       [24, 25, 26, 27, 28, 29]])"
      ]
     },
     "execution_count": 36,
     "metadata": {},
     "output_type": "execute_result"
    }
   ],
   "source": [
    "a"
   ]
  },
  {
   "cell_type": "code",
   "execution_count": 37,
   "id": "da85caba",
   "metadata": {},
   "outputs": [
    {
     "data": {
      "text/plain": [
       "array([[ 6,  7],\n",
       "       [12, 13],\n",
       "       [18, 19]])"
      ]
     },
     "execution_count": 37,
     "metadata": {},
     "output_type": "execute_result"
    }
   ],
   "source": [
    "b= a[1:4,0:2]\n",
    "b"
   ]
  },
  {
   "cell_type": "code",
   "execution_count": 38,
   "id": "7530d22d",
   "metadata": {},
   "outputs": [
    {
     "name": "stdout",
     "output_type": "stream",
     "text": [
      "[ 0  6 12 18 24]\n"
     ]
    }
   ],
   "source": [
    "d = a[:, 0] # select all elements in the 0-th column\n",
    "print(d)"
   ]
  },
  {
   "cell_type": "code",
   "execution_count": 39,
   "id": "d43e7746",
   "metadata": {},
   "outputs": [
    {
     "name": "stdout",
     "output_type": "stream",
     "text": [
      "[ 6  7  8  9 10 11]\n"
     ]
    }
   ],
   "source": [
    "print(a[1])"
   ]
  },
  {
   "cell_type": "code",
   "execution_count": 40,
   "id": "5136da0f",
   "metadata": {},
   "outputs": [
    {
     "name": "stdout",
     "output_type": "stream",
     "text": [
      "[[ 0  1  2]\n",
      " [ 6  7  8]\n",
      " [12 13 14]]\n"
     ]
    }
   ],
   "source": [
    "b = a[:3, :3]\n",
    "print(b)"
   ]
  },
  {
   "cell_type": "code",
   "execution_count": 41,
   "id": "60ab4858",
   "metadata": {},
   "outputs": [
    {
     "name": "stdout",
     "output_type": "stream",
     "text": [
      "8\n"
     ]
    }
   ],
   "source": [
    "# Access an element at row 1, column 2\n",
    "print(a[1, 2]) "
   ]
  },
  {
   "cell_type": "code",
   "execution_count": 42,
   "id": "65ddc65a",
   "metadata": {},
   "outputs": [
    {
     "data": {
      "text/plain": [
       "array([[ 0,  1,  2, 20,  4,  5],\n",
       "       [ 6,  7,  8,  9, 10, 11],\n",
       "       [12, 13, 14, 15, 16, 17],\n",
       "       [18, 19, 20, 21, 22, 23],\n",
       "       [24, 25, 26, 27, 28, 29]])"
      ]
     },
     "execution_count": 42,
     "metadata": {},
     "output_type": "execute_result"
    }
   ],
   "source": [
    "# Modify an element at row 0, column 3\n",
    "a[0, 3] = 20\n",
    "a"
   ]
  },
  {
   "cell_type": "code",
   "execution_count": 43,
   "id": "a8af2655",
   "metadata": {},
   "outputs": [],
   "source": [
    "subarr = a[0:2,1:3]"
   ]
  },
  {
   "cell_type": "code",
   "execution_count": 44,
   "id": "cee5cc35",
   "metadata": {},
   "outputs": [
    {
     "data": {
      "text/plain": [
       "array([[1, 2],\n",
       "       [7, 8]])"
      ]
     },
     "execution_count": 44,
     "metadata": {},
     "output_type": "execute_result"
    }
   ],
   "source": [
    "subarr"
   ]
  },
  {
   "cell_type": "code",
   "execution_count": 45,
   "id": "913c61b1",
   "metadata": {},
   "outputs": [
    {
     "data": {
      "text/plain": [
       "array([[ 2,  4],\n",
       "       [14, 16]])"
      ]
     },
     "execution_count": 45,
     "metadata": {},
     "output_type": "execute_result"
    }
   ],
   "source": [
    "subarr *=2\n",
    "subarr"
   ]
  },
  {
   "cell_type": "code",
   "execution_count": 46,
   "id": "d5a16bd4",
   "metadata": {},
   "outputs": [
    {
     "data": {
      "text/plain": [
       "470"
      ]
     },
     "execution_count": 46,
     "metadata": {},
     "output_type": "execute_result"
    }
   ],
   "source": [
    "np.sum(a)"
   ]
  },
  {
   "cell_type": "code",
   "execution_count": 47,
   "id": "f3713a38",
   "metadata": {},
   "outputs": [
    {
     "data": {
      "text/plain": [
       "array([ 5.83333333, 11.        , 14.5       , 20.5       , 26.5       ])"
      ]
     },
     "execution_count": 47,
     "metadata": {},
     "output_type": "execute_result"
    }
   ],
   "source": [
    "np.mean(a,axis=1)"
   ]
  },
  {
   "cell_type": "markdown",
   "id": "249886ca",
   "metadata": {},
   "source": [
    "# Matrix Multiplication (Dot Product)"
   ]
  },
  {
   "cell_type": "code",
   "execution_count": 24,
   "id": "58173dc8",
   "metadata": {},
   "outputs": [
    {
     "name": "stdout",
     "output_type": "stream",
     "text": [
      "[ 0 13  0]\n",
      "[10  1 -3]\n",
      "[ 28 -15   6]\n"
     ]
    }
   ],
   "source": [
    "import numpy as np\n",
    "A = [[1, 0, 8],\n",
    "    [2, 7, 9],\n",
    "    [3, 6, 1]]\n",
    "\n",
    "B = [[2, 0, 3],\n",
    "    [1, 2, 4],\n",
    "    [0, 2, 5]]\n",
    " \n",
    "\n",
    "result= [[0,0,0],\n",
    "        [0,0,0],\n",
    "        [0,0,0]]\n",
    " \n",
    "result = np.cross(A,B)\n",
    " \n",
    "for r in result:\n",
    "    print(r)"
   ]
  },
  {
   "cell_type": "code",
   "execution_count": 25,
   "id": "30dbea8a",
   "metadata": {},
   "outputs": [
    {
     "name": "stdout",
     "output_type": "stream",
     "text": [
      "[ 2 16 43]\n",
      "[11 32 79]\n",
      "[12 14 38]\n"
     ]
    }
   ],
   "source": [
    "res = np.dot(A,B)\n",
    "\n",
    "for s in res:\n",
    "    print(s)"
   ]
  },
  {
   "cell_type": "code",
   "execution_count": 28,
   "id": "6f8307da",
   "metadata": {},
   "outputs": [
    {
     "data": {
      "text/plain": [
       "array([[  0,  13,   0],\n",
       "       [ 10,   1,  -3],\n",
       "       [ 28, -15,   6]])"
      ]
     },
     "execution_count": 28,
     "metadata": {},
     "output_type": "execute_result"
    }
   ],
   "source": [
    "np.cross(A,B)"
   ]
  },
  {
   "cell_type": "code",
   "execution_count": 4,
   "id": "97fa7172",
   "metadata": {},
   "outputs": [],
   "source": [
    "import numpy as np\n",
    "x = np.arange(45).reshape(3,3,5)"
   ]
  },
  {
   "cell_type": "code",
   "execution_count": 5,
   "id": "bfaef123",
   "metadata": {},
   "outputs": [
    {
     "data": {
      "text/plain": [
       "array([[[ 0,  1,  2,  3,  4],\n",
       "        [ 5,  6,  7,  8,  9],\n",
       "        [10, 11, 12, 13, 14]],\n",
       "\n",
       "       [[15, 16, 17, 18, 19],\n",
       "        [20, 21, 22, 23, 24],\n",
       "        [25, 26, 27, 28, 29]],\n",
       "\n",
       "       [[30, 31, 32, 33, 34],\n",
       "        [35, 36, 37, 38, 39],\n",
       "        [40, 41, 42, 43, 44]]])"
      ]
     },
     "execution_count": 5,
     "metadata": {},
     "output_type": "execute_result"
    }
   ],
   "source": [
    "x"
   ]
  },
  {
   "cell_type": "code",
   "execution_count": 6,
   "id": "cbb1bfb3",
   "metadata": {},
   "outputs": [
    {
     "data": {
      "text/plain": [
       "array([[[16, 17, 18],\n",
       "        [21, 22, 23]],\n",
       "\n",
       "       [[31, 32, 33],\n",
       "        [36, 37, 38]]])"
      ]
     },
     "execution_count": 6,
     "metadata": {},
     "output_type": "execute_result"
    }
   ],
   "source": [
    "x[1:, 0:2, 1:4]"
   ]
  },
  {
   "cell_type": "markdown",
   "id": "b18d5fe0",
   "metadata": {},
   "source": [
    "# Sorting the Matrix"
   ]
  },
  {
   "cell_type": "markdown",
   "id": "4157fade",
   "metadata": {},
   "source": [
    "These two sort functions sort each row of the matrix individually"
   ]
  },
  {
   "cell_type": "code",
   "execution_count": 49,
   "id": "8448df21",
   "metadata": {},
   "outputs": [
    {
     "data": {
      "text/plain": [
       "array([[1, 4],\n",
       "       [1, 3]])"
      ]
     },
     "execution_count": 49,
     "metadata": {},
     "output_type": "execute_result"
    }
   ],
   "source": [
    "a = np.array([[1,4], [3,1]])\n",
    "a.sort()\n",
    "a"
   ]
  },
  {
   "cell_type": "code",
   "execution_count": 12,
   "id": "cafcab41",
   "metadata": {},
   "outputs": [
    {
     "name": "stdout",
     "output_type": "stream",
     "text": [
      "[[0 1 2]\n",
      " [1 0 2]\n",
      " [1 0 2]]\n"
     ]
    }
   ],
   "source": [
    "n = np.matrix('[-1, 2, 3; 4, -5, 6; 7, -8, 9]') \n",
    "           \n",
    "p = n.argsort() \n",
    "     \n",
    "print(p) "
   ]
  },
  {
   "cell_type": "markdown",
   "id": "663c5659",
   "metadata": {},
   "source": [
    "When we want to sort whole matrix as in the sequemce to get the sorted elements in a list "
   ]
  },
  {
   "cell_type": "code",
   "execution_count": 13,
   "id": "9d112098",
   "metadata": {},
   "outputs": [
    {
     "name": "stdout",
     "output_type": "stream",
     "text": [
      "1 10 11 13 14 16 17 20 22 43 50 54 69 81 95 99 "
     ]
    }
   ],
   "source": [
    "Matrix = [[1, 20, 43, 14],\n",
    "          [50, 69, 17, 81],\n",
    "          [99, 10, 11, 22],\n",
    "          [13, 54, 95, 16]]\n",
    "\n",
    "arr = []\n",
    "x, n, m = 0, 4, 4\n",
    "\n",
    "for i in range(n):\n",
    "    for j in range(m):\n",
    "        arr.append(Matrix[i][j])\n",
    "\n",
    "size = n*m\n",
    "arr.sort()\n",
    "\n",
    "for i in range(size):\n",
    "    print(arr[i], end=\" \")"
   ]
  },
  {
   "cell_type": "code",
   "execution_count": 15,
   "id": "3fdbfdab",
   "metadata": {},
   "outputs": [
    {
     "name": "stdout",
     "output_type": "stream",
     "text": [
      "Original Array:\n",
      "[[1 2 3]\n",
      " [4 5 6]]\n",
      "Transposed Array:\n",
      "[[1 4]\n",
      " [2 5]\n",
      " [3 6]]\n"
     ]
    }
   ],
   "source": [
    "import numpy as np\n",
    "\n",
    "arr1 = np.array([[1, 2, 3], [4, 5, 6]])\n",
    "\n",
    "print(f'Original Array:\\n{arr1}')\n",
    "\n",
    "arr1_transpose = arr1.transpose()\n",
    "\n",
    "print(f'Transposed Array:\\n{arr1_transpose}')"
   ]
  },
  {
   "cell_type": "code",
   "execution_count": 30,
   "id": "40b8e0b3",
   "metadata": {},
   "outputs": [],
   "source": [
    "data = np.array([[1, 2], [3, 4], [5, 6]])\n",
    "ones_row = np.array([[1, 1]])"
   ]
  },
  {
   "cell_type": "code",
   "execution_count": 31,
   "id": "acfeaee0",
   "metadata": {},
   "outputs": [
    {
     "data": {
      "text/plain": [
       "array([[2, 3],\n",
       "       [4, 5],\n",
       "       [6, 7]])"
      ]
     },
     "execution_count": 31,
     "metadata": {},
     "output_type": "execute_result"
    }
   ],
   "source": [
    "data + ones_row"
   ]
  },
  {
   "cell_type": "code",
   "execution_count": 32,
   "id": "8a7ca2ed",
   "metadata": {},
   "outputs": [
    {
     "data": {
      "text/plain": [
       "array([[1., 1., 1.],\n",
       "       [1., 1., 1.],\n",
       "       [1., 1., 1.],\n",
       "       [1., 1., 1.]])"
      ]
     },
     "execution_count": 32,
     "metadata": {},
     "output_type": "execute_result"
    }
   ],
   "source": [
    "np.ones((4,3))"
   ]
  },
  {
   "cell_type": "code",
   "execution_count": 34,
   "id": "8e8edb2f",
   "metadata": {},
   "outputs": [
    {
     "data": {
      "text/plain": [
       "array([[0., 0., 0., 0., 0.],\n",
       "       [0., 0., 0., 0., 0.],\n",
       "       [0., 0., 0., 0., 0.],\n",
       "       [0., 0., 0., 0., 0.],\n",
       "       [0., 0., 0., 0., 0.]])"
      ]
     },
     "execution_count": 34,
     "metadata": {},
     "output_type": "execute_result"
    }
   ],
   "source": [
    "np.zeros((5,5))"
   ]
  },
  {
   "cell_type": "code",
   "execution_count": 36,
   "id": "03355bf1",
   "metadata": {},
   "outputs": [],
   "source": [
    "r = np.random.default_rng(0)"
   ]
  },
  {
   "cell_type": "code",
   "execution_count": 37,
   "id": "da0ab831",
   "metadata": {},
   "outputs": [
    {
     "data": {
      "text/plain": [
       "array([0.63696169, 0.26978671, 0.04097352])"
      ]
     },
     "execution_count": 37,
     "metadata": {},
     "output_type": "execute_result"
    }
   ],
   "source": [
    "r.random(3)"
   ]
  },
  {
   "cell_type": "code",
   "execution_count": 40,
   "id": "89c29711",
   "metadata": {},
   "outputs": [
    {
     "data": {
      "text/plain": [
       "array([[0.01652764, 0.81327024, 0.91275558, 0.60663578, 0.72949656],\n",
       "       [0.54362499, 0.93507242, 0.81585355, 0.0027385 , 0.85740428],\n",
       "       [0.03358558, 0.72965545, 0.17565562, 0.86317892, 0.54146122],\n",
       "       [0.29971189, 0.42268722, 0.02831967, 0.12428328, 0.67062441],\n",
       "       [0.64718951, 0.61538511, 0.38367755, 0.99720994, 0.98083534]])"
      ]
     },
     "execution_count": 40,
     "metadata": {},
     "output_type": "execute_result"
    }
   ],
   "source": [
    "r.random((5,5))"
   ]
  },
  {
   "cell_type": "code",
   "execution_count": 43,
   "id": "ba940980",
   "metadata": {},
   "outputs": [
    {
     "data": {
      "text/plain": [
       "array([[4, 0, 2, 3, 4],\n",
       "       [2, 1, 1, 2, 2],\n",
       "       [3, 4, 0, 4, 2],\n",
       "       [1, 3, 2, 1, 1],\n",
       "       [3, 2, 2, 1, 3]], dtype=int64)"
      ]
     },
     "execution_count": 43,
     "metadata": {},
     "output_type": "execute_result"
    }
   ],
   "source": [
    "r.integers(5, size=(5,5))"
   ]
  },
  {
   "cell_type": "code",
   "execution_count": 44,
   "id": "288895d6",
   "metadata": {},
   "outputs": [],
   "source": [
    "a = np.array([1,2,2,2,3,4,5,6,6,7,8,9,1,0,3])"
   ]
  },
  {
   "cell_type": "code",
   "execution_count": 45,
   "id": "218b8070",
   "metadata": {},
   "outputs": [
    {
     "data": {
      "text/plain": [
       "array([0, 1, 2, 3, 4, 5, 6, 7, 8, 9])"
      ]
     },
     "execution_count": 45,
     "metadata": {},
     "output_type": "execute_result"
    }
   ],
   "source": [
    "np.unique(a)"
   ]
  },
  {
   "cell_type": "code",
   "execution_count": 46,
   "id": "9a658e28",
   "metadata": {},
   "outputs": [],
   "source": [
    "unique, indices = np.unique(a, return_index=True)"
   ]
  },
  {
   "cell_type": "code",
   "execution_count": 47,
   "id": "85d22aac",
   "metadata": {},
   "outputs": [
    {
     "data": {
      "text/plain": [
       "array([13,  0,  1,  4,  5,  6,  7,  9, 10, 11], dtype=int64)"
      ]
     },
     "execution_count": 47,
     "metadata": {},
     "output_type": "execute_result"
    }
   ],
   "source": [
    "indices"
   ]
  },
  {
   "cell_type": "code",
   "execution_count": 48,
   "id": "31b202f3",
   "metadata": {},
   "outputs": [
    {
     "data": {
      "text/plain": [
       "array([0, 1, 2, 3, 4, 5, 6, 7, 8, 9])"
      ]
     },
     "execution_count": 48,
     "metadata": {},
     "output_type": "execute_result"
    }
   ],
   "source": [
    "unique"
   ]
  },
  {
   "cell_type": "code",
   "execution_count": null,
   "id": "7a56c03f",
   "metadata": {},
   "outputs": [],
   "source": []
  }
 ],
 "metadata": {
  "kernelspec": {
   "display_name": "Python 3 (ipykernel)",
   "language": "python",
   "name": "python3"
  },
  "language_info": {
   "codemirror_mode": {
    "name": "ipython",
    "version": 3
   },
   "file_extension": ".py",
   "mimetype": "text/x-python",
   "name": "python",
   "nbconvert_exporter": "python",
   "pygments_lexer": "ipython3",
   "version": "3.9.13"
  }
 },
 "nbformat": 4,
 "nbformat_minor": 5
}
